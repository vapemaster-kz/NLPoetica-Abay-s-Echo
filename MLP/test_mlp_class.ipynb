{
 "cells": [
  {
   "cell_type": "code",
   "execution_count": 1,
   "metadata": {},
   "outputs": [],
   "source": [
    "# adding to path\n",
    "\n",
    "import sys\n",
    "\n",
    "# Specify the path to your repository\n",
    "repository_path = r'C:\\Users\\Sanzhar\\Desktop\\projects\\NLPoetica-Abay-s-Echo'\n",
    "\n",
    "# Add the repository path to the Python path\n",
    "sys.path.append(repository_path)\n"
   ]
  },
  {
   "cell_type": "code",
   "execution_count": 2,
   "metadata": {},
   "outputs": [],
   "source": [
    "from MLP import MLP"
   ]
  },
  {
   "cell_type": "code",
   "execution_count": 3,
   "metadata": {},
   "outputs": [
    {
     "name": "stderr",
     "output_type": "stream",
     "text": [
      "\u001b[32m2024-01-21 23:06:19.848\u001b[0m | \u001b[1mINFO    \u001b[0m | \u001b[36mDataLoader.DataLoader\u001b[0m:\u001b[36m__init__\u001b[0m:\u001b[36m15\u001b[0m - \u001b[1mSuccessfully identifed 126 of txt files in the dir folder\u001b[0m\n"
     ]
    }
   ],
   "source": [
    "dir_path = \"../dataset\"\n",
    "mlp = MLP(dir_path=dir_path, context_length=3)"
   ]
  },
  {
   "cell_type": "code",
   "execution_count": 4,
   "metadata": {},
   "outputs": [],
   "source": [
    "mlp.intialize_parameters()"
   ]
  },
  {
   "cell_type": "code",
   "execution_count": 5,
   "metadata": {},
   "outputs": [],
   "source": [
    "mlp.initialize_layers(emb_dim=5)"
   ]
  },
  {
   "cell_type": "code",
   "execution_count": 6,
   "metadata": {},
   "outputs": [
    {
     "name": "stdout",
     "output_type": "stream",
     "text": [
      "Model's loss at 0: 4.480799198150635\n",
      "Model's loss at 100: 3.613774061203003\n",
      "Model's loss at 200: 3.3357293605804443\n",
      "Model's loss at 300: 3.181269645690918\n",
      "Model's loss at 400: 3.0740597248077393\n",
      "Model's loss at 500: 2.9919679164886475\n",
      "Model's loss at 600: 2.9254109859466553\n",
      "Model's loss at 700: 2.8693809509277344\n",
      "Model's loss at 800: 2.82080340385437\n",
      "Model's loss at 900: 2.777834415435791\n",
      "Model's loss at 1000: 2.7394051551818848\n",
      "Model's loss at 1100: 2.7048211097717285\n",
      "Model's loss at 1200: 2.6735477447509766\n",
      "Model's loss at 1300: 2.6451258659362793\n",
      "Model's loss at 1400: 2.619175910949707\n",
      "Model's loss at 1500: 2.5954337120056152\n",
      "Model's loss at 1600: 2.5736937522888184\n",
      "Model's loss at 1700: 2.5537192821502686\n",
      "Model's loss at 1800: 2.535252571105957\n",
      "Model's loss at 1900: 2.51806378364563\n",
      "Model's loss at 2000: 2.501966714859009\n",
      "Model's loss at 2100: 2.4868245124816895\n",
      "Model's loss at 2200: 2.4725379943847656\n",
      "Model's loss at 2300: 2.4590396881103516\n",
      "Model's loss at 2400: 2.4462838172912598\n",
      "Model's loss at 2500: 2.4342362880706787\n",
      "Model's loss at 2600: 2.4228668212890625\n",
      "Model's loss at 2700: 2.4121463298797607\n",
      "Model's loss at 2800: 2.4020442962646484\n",
      "Model's loss at 2900: 2.3925280570983887\n",
      "Model's loss at 3000: 2.383563756942749\n",
      "Model's loss at 3100: 2.375114679336548\n",
      "Model's loss at 3200: 2.3671445846557617\n",
      "Model's loss at 3300: 2.3596155643463135\n",
      "Model's loss at 3400: 2.352491617202759\n",
      "Model's loss at 3500: 2.345738410949707\n",
      "Model's loss at 3600: 2.339322566986084\n",
      "Model's loss at 3700: 2.3332149982452393\n",
      "Model's loss at 3800: 2.327388048171997\n",
      "Model's loss at 3900: 2.3218185901641846\n",
      "Model's loss at 4000: 2.316483736038208\n",
      "Model's loss at 4100: 2.3113651275634766\n",
      "Model's loss at 4200: 2.306445598602295\n",
      "Model's loss at 4300: 2.3017098903656006\n",
      "Model's loss at 4400: 2.2971439361572266\n",
      "Model's loss at 4500: 2.292736053466797\n",
      "Model's loss at 4600: 2.2884750366210938\n",
      "Model's loss at 4700: 2.284351110458374\n",
      "Model's loss at 4800: 2.280355930328369\n",
      "Model's loss at 4900: 2.2764806747436523\n"
     ]
    }
   ],
   "source": [
    "mlp.pohui_train(epochs=5_000, lr= 0.05)"
   ]
  },
  {
   "cell_type": "code",
   "execution_count": 8,
   "metadata": {},
   "outputs": [
    {
     "name": "stderr",
     "output_type": "stream",
     "text": [
      "c:\\Users\\Sanzhar\\Desktop\\projects\\NLPoetica-Abay-s-Echo\\MLP\\MLP.py:137: UserWarning: Implicit dimension choice for softmax has been deprecated. Change the call to include dim=X as an argument.\n",
      "  probs = F.softmax(logits)\n"
     ]
    }
   ],
   "source": [
    "poem = mlp.create_poem()"
   ]
  },
  {
   "cell_type": "code",
   "execution_count": 9,
   "metadata": {},
   "outputs": [
    {
     "name": "stdout",
     "output_type": "stream",
     "text": [
      "айғанса,\n",
      "Бзммас.<E>рг та!.мде жоқс\n",
      "Жа жа берішеңкізіңдіғ —шар.\n",
      "Мүйренек\n",
      "Бар с. ліз діп, іяиқнырылтарғы жазғып.\n",
      "\n",
      "Осазы,\n",
      "Жұғын,\n",
      "Бүр?\n",
      "р¥йеріс, таға ат\n",
      "Бун-а болы ағыЖббітда ем алай оен өкнлрдасенең\n",
      "ҚҺорпадамың,\n",
      "БаОғалғай,\n",
      "Киғұ теңсеніп, қал,\n",
      "Те Шау, тұй,\n",
      "Кеп жерек сиТаға жа май талалдан сүш.\n",
      "Ұөрсезенін болса, жақ-ас,\n",
      "Бщіңананаұл,\n",
      "көз —саң көзігтей сотдауқа жасанан таппа.\n",
      "Желен,\n",
      "Шүтпен –апын масын ыдір\n",
      "Со қу пұғ ет ізе құған қылық,\n",
      "Ат-ылаяқарайсыңныныа,\n",
      "гең.\n",
      "\n",
      "у»ың, сылды.\n",
      "ҚЖң таулаңтыла көрсей қызып,\n"
     ]
    }
   ],
   "source": [
    "print(poem)"
   ]
  },
  {
   "cell_type": "code",
   "execution_count": null,
   "metadata": {},
   "outputs": [],
   "source": []
  }
 ],
 "metadata": {
  "kernelspec": {
   "display_name": "venv_makemore",
   "language": "python",
   "name": "python3"
  },
  "language_info": {
   "codemirror_mode": {
    "name": "ipython",
    "version": 3
   },
   "file_extension": ".py",
   "mimetype": "text/x-python",
   "name": "python",
   "nbconvert_exporter": "python",
   "pygments_lexer": "ipython3",
   "version": "3.8.6"
  }
 },
 "nbformat": 4,
 "nbformat_minor": 2
}
