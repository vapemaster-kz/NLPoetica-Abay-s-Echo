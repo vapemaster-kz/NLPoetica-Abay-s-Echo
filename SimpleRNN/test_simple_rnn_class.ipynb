{
 "cells": [
  {
   "cell_type": "code",
   "execution_count": 1,
   "metadata": {},
   "outputs": [],
   "source": [
    "# adding to path\n",
    "\n",
    "import sys\n",
    "\n",
    "# Specify the path to your repository\n",
    "repository_path = r'C:\\Users\\Sanzhar\\Desktop\\projects\\NLPoetica-Abay-s-Echo'\n",
    "\n",
    "# Add the repository path to the Python path\n",
    "sys.path.append(repository_path)\n"
   ]
  },
  {
   "cell_type": "code",
   "execution_count": 2,
   "metadata": {},
   "outputs": [],
   "source": [
    "from DataLoader import DataLoader"
   ]
  },
  {
   "cell_type": "code",
   "execution_count": 3,
   "metadata": {},
   "outputs": [
    {
     "name": "stderr",
     "output_type": "stream",
     "text": [
      "\u001b[32m2024-02-09 12:31:39.550\u001b[0m | \u001b[1mINFO    \u001b[0m | \u001b[36mDataLoader.DataLoader\u001b[0m:\u001b[36m__init__\u001b[0m:\u001b[36m15\u001b[0m - \u001b[1mSuccessfully identifed 126 of txt files in the dir folder\u001b[0m\n"
     ]
    }
   ],
   "source": [
    "dir_path = \"../dataset\"\n",
    "data_loader = DataLoader(dir_path)\n",
    "texts = data_loader.read_texts_from_folder(add_title=False)\n",
    "possible_characters = sorted(list(set(\"\".join(texts))))"
   ]
  },
  {
   "cell_type": "code",
   "execution_count": 4,
   "metadata": {},
   "outputs": [],
   "source": [
    "from SimpleRNN import SimpleRnn"
   ]
  },
  {
   "cell_type": "code",
   "execution_count": 5,
   "metadata": {},
   "outputs": [],
   "source": [
    "model = SimpleRnn(possible_characters, hidden_size=100)"
   ]
  },
  {
   "cell_type": "code",
   "execution_count": 6,
   "metadata": {},
   "outputs": [
    {
     "name": "stdout",
     "output_type": "stream",
     "text": [
      "Batch 1, Average Loss: 2.8057330509481395\n",
      "Batch 2, Average Loss: 2.4312067922154967\n",
      "Batch 3, Average Loss: 2.37620138520525\n",
      "Batch 4, Average Loss: 2.320220827186335\n",
      "Batch 5, Average Loss: 2.316236709036054\n",
      "Batch 6, Average Loss: 2.3242157681043922\n",
      "Batch 7, Average Loss: 2.260969234281683\n",
      "Batch 8, Average Loss: 2.260192162982556\n",
      "Batch 9, Average Loss: 2.2953976666331917\n",
      "Batch 10, Average Loss: 2.260615707921646\n",
      "Batch 11, Average Loss: 2.1937572887976984\n",
      "Batch 12, Average Loss: 2.2668361666418235\n",
      "Batch 13, Average Loss: 2.20198962153362\n",
      "Batch 14, Average Loss: 2.256427579731731\n",
      "Batch 15, Average Loss: 2.184386458150702\n",
      "Batch 16, Average Loss: 2.231734118848944\n",
      "Batch 17, Average Loss: 2.2145986506566224\n",
      "Batch 18, Average Loss: 2.204407424393376\n",
      "Batch 19, Average Loss: 2.2380307163036925\n",
      "Batch 20, Average Loss: 2.2308283417900774\n"
     ]
    }
   ],
   "source": [
    "model.train(epochs=20, dataset=texts, lr=0.1)"
   ]
  },
  {
   "cell_type": "code",
   "execution_count": 7,
   "metadata": {},
   "outputs": [
    {
     "name": "stdout",
     "output_type": "stream",
     "text": [
      "Дәрі сөзінсе айналанаң жана қара келдемі көреке шайласа сөзін жан,\n",
      "Болсамас жалынға,\n",
      "Қошпан өміріп бәрі сөзіке алап?\n",
      "Сеңіз айтас сүнемей Ал жалған табша көзілі жаға болжа – аты жоқ.\n",
      "Күніт пені өзірі тан жарит қалмадай жаңша шаны көр сөзірмен ақ депен салар сотсасақ.\n",
      "Мінде жал салып сал болмас кетке,\n",
      "Тені тап,\n",
      "Еріннен,\n",
      "Денек сөзім\n",
      " тағғанға,\n",
      "Көп деп жал сенің,\n",
      "Көрмесе,\n",
      "Тағы көп жерсенер.\n",
      "\n",
      "Жалқан қар ерсегі болба жалдап сарсаң сүлуенің талмас.\n",
      "\n",
      "Оңнашық жайналда деп кетіп қасымдатпандан үсірным,\n",
      "Самаса үмір деп сыйланын тара көзінесер жермен үшір хық жалырған незе жалыр»айрасын?\n",
      "Сенің сек.\n",
      "Ғойлап қаламде алсаң?\n",
      "\n",
      "Құрсе, тұрқырмас деп өзі қа,\n",
      "Құста,\n",
      "Бастасы,\n",
      "Алба,\n",
      "Бір шер – орынашін,\n",
      "Сеней бас.\n",
      "Бір сен – тисені қатын сенер – қашы,\n",
      "Сегі алма,\n",
      "Түнер деп тадасын,\n",
      "Ақсакітпен жалғанын,\n",
      "Денен сен,\n",
      "Жөнер жарынені көп жар ей салғанар,\n",
      "Ақталы бермесе сенің бір деп.\n",
      "Шиалған әулеып өзі сыз.\n",
      "\n",
      "Кейде жап,\n",
      "Адам мұнабы,\n",
      "«Қыммалшақта құрсеке жоқ алма ұдақ — сқан дер қалған аңбақтыма қайып жақташар.\n",
      "Оңбай өзі\n"
     ]
    }
   ],
   "source": [
    "print(model.create_poem(max_character=1000))"
   ]
  },
  {
   "cell_type": "code",
   "execution_count": null,
   "metadata": {},
   "outputs": [],
   "source": []
  }
 ],
 "metadata": {
  "kernelspec": {
   "display_name": "venv_makemore",
   "language": "python",
   "name": "python3"
  },
  "language_info": {
   "codemirror_mode": {
    "name": "ipython",
    "version": 3
   },
   "file_extension": ".py",
   "mimetype": "text/x-python",
   "name": "python",
   "nbconvert_exporter": "python",
   "pygments_lexer": "ipython3",
   "version": "3.8.6"
  }
 },
 "nbformat": 4,
 "nbformat_minor": 2
}
