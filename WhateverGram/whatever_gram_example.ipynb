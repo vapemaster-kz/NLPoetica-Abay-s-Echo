{
 "cells": [
  {
   "cell_type": "code",
   "execution_count": 1,
   "metadata": {},
   "outputs": [],
   "source": [
    "import sys\n",
    "sys.path.append(r\"C:\\Users\\Sanzhar\\Desktop\\projects\\new\\NLPoetica-Abay-s-Echo\")\n"
   ]
  },
  {
   "cell_type": "code",
   "execution_count": 2,
   "metadata": {},
   "outputs": [],
   "source": [
    "from WhateverGram import WhateverGram"
   ]
  },
  {
   "cell_type": "code",
   "execution_count": 5,
   "metadata": {},
   "outputs": [
    {
     "name": "stderr",
     "output_type": "stream",
     "text": [
      "\u001b[32m2024-01-02 21:19:00.014\u001b[0m | \u001b[1mINFO    \u001b[0m | \u001b[36mDataLoader.DataLoader\u001b[0m:\u001b[36m__init__\u001b[0m:\u001b[36m15\u001b[0m - \u001b[1mSuccessfully identifed 126 of txt files in the dir folder\u001b[0m\n"
     ]
    }
   ],
   "source": [
    "two_grams = WhateverGram(dir_path=\"../dataset/\", ngrams=2, add_title=False)"
   ]
  },
  {
   "cell_type": "code",
   "execution_count": 9,
   "metadata": {},
   "outputs": [
    {
     "name": "stdout",
     "output_type": "stream",
     "text": [
      "Мерынжықұр, сатоң, бетөрсыңғы ақпұқ – алқақынай шол болал таңес бетаболлс,\n",
      "Ақ, жоңқұмайдаса лқыз бәт жигүй айман м қайраң,\n",
      "Дерін, егіп бөпи,\n",
      "Қанбашын ұр\n",
      "Түсе,\n",
      "Қан зы,\n",
      "Кеген дынай,\n",
      "Түмантасте бәмі ар абы,\n",
      "Айсерер марілкің кін ты.\n",
      "Құрздірлі жүзішірерген бекелменалде мы бамы п кі?\n",
      "Әрғаналда қаң\n",
      "Қа сұмабоп күгесайр сейділді?\n",
      "Хой.\n",
      "Қуды.\n",
      "\n",
      "Дүнгіп, ал алдвайесын.\n",
      "Ең.\n",
      "Бі енгіпайденбене беп, әр, бін бін жұқта қаныние кірме ба.\n",
      "Ақ ойіңдаріп тайтіңгейлы қтең,\n",
      "Елжадемесар қалм і жаргерғамат,\n",
      "Ба ратәлдыпыңшбенбір.\n",
      "Күшықыргеласылбе бірлдізділейсқұлгенер,\n",
      "Көзбердан ел ерекүлдан,\n",
      "Біперекеп көмерайыңығанде анарілделтен н, оқы сің\n",
      "Міндасі, үре салайтар,\n",
      "Ор\n",
      "\n",
      "Барініптеті,\n",
      "\n",
      "О ейы -ді жұр далғыріздырк.\n",
      "Көлмылсылдасыр атанілы.\n",
      "Ұрсықалғып,\n",
      "Өнылм ауіп,\n",
      "Қам екіренетымн.\n",
      "Біріпіңштаренеріназ бақ,\n",
      "Қап.\n",
      "Қушал дыма,\n",
      "Өтімекі дықтшінен бан дарі бінірсеңадыбішырендесір жүрізызігілгема, м қылсқи\n",
      "\n",
      "\n",
      "Сер таніла жұғаятықпапп байгенаярманау\n",
      "Жүздарен с,\n",
      "Ма к:\n",
      "Шылміңі бі тап бой.\n",
      "\n",
      "Серызмалейлылырғдасүші өз жар тыніңынемайдүнда тішы жалемын, қа қызды ке ұзі осешыланар,\n",
      "Сан зарлыр\n",
      "Деналайғасықттиқ.\n"
     ]
    }
   ],
   "source": [
    "txt = two_grams.generate_text()\n",
    "print(txt)"
   ]
  },
  {
   "cell_type": "code",
   "execution_count": null,
   "metadata": {},
   "outputs": [],
   "source": []
  },
  {
   "cell_type": "code",
   "execution_count": null,
   "metadata": {},
   "outputs": [],
   "source": []
  }
 ],
 "metadata": {
  "kernelspec": {
   "display_name": "venv_makemore",
   "language": "python",
   "name": "python3"
  },
  "language_info": {
   "codemirror_mode": {
    "name": "ipython",
    "version": 3
   },
   "file_extension": ".py",
   "mimetype": "text/x-python",
   "name": "python",
   "nbconvert_exporter": "python",
   "pygments_lexer": "ipython3",
   "version": "3.8.6"
  }
 },
 "nbformat": 4,
 "nbformat_minor": 2
}
